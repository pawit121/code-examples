{
 "cells": [
  {
   "cell_type": "markdown",
   "metadata": {},
   "source": [
    "# Explanation"
   ]
  },
  {
   "cell_type": "markdown",
   "metadata": {},
   "source": [
    "universe: SP100\n",
    "\n",
    "data period: last 2 years\n",
    "\n",
    "alpha: I assume I can generate the daily targeted positions at close and rebalance at close. The simple strategy is just a dollar-neutral one at 20M USD gross booksize based on a simple weekly reversion with a linear decay smoothing then following by normalization stocks against all stocks in the same sectors. Actually using mean-reversion will exhibit a bias because we do not use the historical Sp100 constituents but I will just want to show this most basic starting idea I normally try for the price-volume data anyway.\n",
    "\n",
    "matrices: the annual return, the annual Sharpe ratio and the maximum drawdown are shown for the illustration."
   ]
  },
  {
   "cell_type": "code",
   "execution_count": 1,
   "metadata": {},
   "outputs": [],
   "source": [
    "import pandas as pd\n",
    "import yfinance as yf\n",
    "import requests\n",
    "import bs4 as bs\n",
    "import datetime\n",
    "import numpy as np"
   ]
  },
  {
   "cell_type": "code",
   "execution_count": 2,
   "metadata": {},
   "outputs": [],
   "source": [
    "def data_download():\n",
    "    resp = requests.get('http://en.wikipedia.org/wiki/S%26P_100')\n",
    "    soup = bs.BeautifulSoup(resp.text, 'lxml')\n",
    "    table = soup.find('table', {'class': 'wikitable sortable'})\n",
    "    tickers = []\n",
    "    sectors = []\n",
    "    for row in table.findAll('tr')[1:]:\n",
    "        ticker = row.findAll('td')[0].text\n",
    "        if ticker.strip() != 'GOOG':\n",
    "            if ticker.strip() == 'BRK.B':\n",
    "                ticker = 'BRK-B'\n",
    "            tickers.append(ticker)\n",
    "            sector = row.findAll('td')[2].text\n",
    "            sectors.append(sector)\n",
    "    tickers = [s.replace('\\n', '') for s in tickers]\n",
    "    sectors = [s.replace('\\n', '') for s in sectors]\n",
    "    return tickers, sectors"
   ]
  },
  {
   "cell_type": "code",
   "execution_count": 3,
   "metadata": {},
   "outputs": [],
   "source": [
    "def neutralize(alphas, group):\n",
    "    a = alphas.copy()\n",
    "    for g in group:\n",
    "        a[group[g]] = a[group[g]].sub(a[group[g]].mean(axis=1), axis=0)\n",
    "    return a\n",
    "def decay(alphas, days):\n",
    "    weights = np.arange(1, days + 1)\n",
    "    return alphas.rolling(days).apply(lambda x: np.dot(x, weights) / weights.sum(), raw=True)\n",
    "def scale_to_book(alphas, booksize=20e6):\n",
    "    return booksize * alphas.div(alphas.abs().sum(axis=1), axis=0)"
   ]
  },
  {
   "cell_type": "code",
   "execution_count": 4,
   "metadata": {},
   "outputs": [],
   "source": [
    "tickers, sectors = data_download()"
   ]
  },
  {
   "cell_type": "code",
   "execution_count": 5,
   "metadata": {},
   "outputs": [],
   "source": [
    "sector_dict = {}\n",
    "for i in range(len(tickers)):\n",
    "    if sectors[i] in sector_dict:\n",
    "        sector_dict[sectors[i]].append(tickers[i])\n",
    "    else:\n",
    "        sector_dict[sectors[i]] = [tickers[i]]"
   ]
  },
  {
   "cell_type": "code",
   "execution_count": 6,
   "metadata": {},
   "outputs": [],
   "source": [
    "start = datetime.datetime(2019, 8, 11)\n",
    "end = datetime.datetime(2021, 8, 10)"
   ]
  },
  {
   "cell_type": "code",
   "execution_count": 7,
   "metadata": {},
   "outputs": [
    {
     "name": "stdout",
     "output_type": "stream",
     "text": [
      "[*********************100%***********************]  100 of 100 completed\n"
     ]
    }
   ],
   "source": [
    "data = yf.download(tickers, start=start, end=end)"
   ]
  },
  {
   "cell_type": "code",
   "execution_count": 8,
   "metadata": {},
   "outputs": [],
   "source": [
    "adj_close = data['Adj Close']"
   ]
  },
  {
   "cell_type": "code",
   "execution_count": 9,
   "metadata": {},
   "outputs": [],
   "source": [
    "adj_ret = adj_close / adj_close.shift(1) - 1"
   ]
  },
  {
   "cell_type": "code",
   "execution_count": 10,
   "metadata": {},
   "outputs": [],
   "source": [
    "book_size = 20e6"
   ]
  },
  {
   "cell_type": "code",
   "execution_count": 11,
   "metadata": {},
   "outputs": [],
   "source": [
    "ret_days = 5"
   ]
  },
  {
   "cell_type": "code",
   "execution_count": 12,
   "metadata": {},
   "outputs": [],
   "source": [
    "alphas = -(adj_close / adj_close.shift(ret_days) - 1)"
   ]
  },
  {
   "cell_type": "code",
   "execution_count": 13,
   "metadata": {},
   "outputs": [],
   "source": [
    "dec_days = 3\n",
    "alphas_dec = decay(alphas, dec_days)\n",
    "alphas_norm = neutralize(alphas_dec, sector_dict)\n",
    "pos = scale_to_book(alphas_norm, book_size)"
   ]
  },
  {
   "cell_type": "code",
   "execution_count": 14,
   "metadata": {},
   "outputs": [],
   "source": [
    "pnl = pos.shift(1) * adj_ret"
   ]
  },
  {
   "cell_type": "code",
   "execution_count": 15,
   "metadata": {},
   "outputs": [],
   "source": [
    "index_shift = ret_days + dec_days"
   ]
  },
  {
   "cell_type": "code",
   "execution_count": 16,
   "metadata": {},
   "outputs": [
    {
     "data": {
      "text/plain": [
       "<AxesSubplot:title={'center':'cum pnl(USD)'}, xlabel='Date'>"
      ]
     },
     "execution_count": 16,
     "metadata": {},
     "output_type": "execute_result"
    },
    {
     "data": {
      "image/png": "[encoded data removed]",
      "text/plain": [
       "<Figure size 432x288 with 1 Axes>"
      ]
     },
     "metadata": {
      "needs_background": "light"
     },
     "output_type": "display_data"
    }
   ],
   "source": [
    "pnl.sum(axis=1).cumsum().iloc[(index_shift - 1):].plot(title='cum pnl(USD)')"
   ]
  },
  {
   "cell_type": "code",
   "execution_count": 17,
   "metadata": {},
   "outputs": [],
   "source": [
    "ann_ret = 250 * pnl.sum(axis=1).iloc[index_shift:].mean() / book_size\n",
    "ann_sharpe = 250 ** 0.5 * pnl.sum(axis=1).iloc[index_shift:].mean() / pnl.sum(axis=1).iloc[index_shift:].std() \n",
    "max_dd = (pnl.sum(axis=1).cumsum().cummax() - pnl.sum(axis=1).cumsum()).max() / book_size"
   ]
  },
  {
   "cell_type": "code",
   "execution_count": 18,
   "metadata": {},
   "outputs": [
    {
     "name": "stdout",
     "output_type": "stream",
     "text": [
      "ann ret(%) = 9.70324800154401\n",
      "ann SR = 0.9256366604003348\n",
      "max DD(%) = 14.858578280278259\n"
     ]
    }
   ],
   "source": [
    "print('ann ret(%) =', ann_ret*100)\n",
    "print('ann SR =', ann_sharpe)\n",
    "print('max DD(%) =', max_dd*100)"
   ]
  },
  {
   "cell_type": "code",
   "execution_count": null,
   "metadata": {},
   "outputs": [],
   "source": []
  }
 ],
 "metadata": {
  "kernelspec": {
   "display_name": "Python 3",
   "language": "python",
   "name": "python3"
  },
  "language_info": {
   "codemirror_mode": {
    "name": "ipython",
    "version": 3
   },
   "file_extension": ".py",
   "mimetype": "text/x-python",
   "name": "python",
   "nbconvert_exporter": "python",
   "pygments_lexer": "ipython3",
   "version": "3.8.6"
  }
 },
 "nbformat": 4,
 "nbformat_minor": 4
}
